{
 "cells": [
  {
   "cell_type": "code",
   "execution_count": 1,
   "id": "b18b28c2",
   "metadata": {
    "_cell_guid": "b1076dfc-b9ad-4769-8c92-a6c4dae69d19",
    "_uuid": "8f2839f25d086af736a60e9eeb907d3b93b6e0e5",
    "execution": {
     "iopub.execute_input": "2023-06-09T02:24:31.617829Z",
     "iopub.status.busy": "2023-06-09T02:24:31.617273Z",
     "iopub.status.idle": "2023-06-09T02:24:31.640927Z",
     "shell.execute_reply": "2023-06-09T02:24:31.639826Z"
    },
    "papermill": {
     "duration": 0.031456,
     "end_time": "2023-06-09T02:24:31.642945",
     "exception": false,
     "start_time": "2023-06-09T02:24:31.611489",
     "status": "completed"
    },
    "tags": []
   },
   "outputs": [
    {
     "name": "stdout",
     "output_type": "stream",
     "text": [
      "/kaggle/input/sephora-products-and-skincare-reviews/product_info.csv\n",
      "/kaggle/input/sephora-products-and-skincare-reviews/reviews_250_500.csv\n",
      "/kaggle/input/sephora-products-and-skincare-reviews/reviews_1500_end.csv\n",
      "/kaggle/input/sephora-products-and-skincare-reviews/reviews_1000_1500.csv\n",
      "/kaggle/input/sephora-products-and-skincare-reviews/reviews_500_750.csv\n",
      "/kaggle/input/sephora-products-and-skincare-reviews/reviews_750_1000.csv\n",
      "/kaggle/input/sephora-products-and-skincare-reviews/reviews_0_250.csv\n",
      "/kaggle/input/gpt-vectorized-data/df_vectorized.csv\n"
     ]
    }
   ],
   "source": [
    "# This Python 3 environment comes with many helpful analytics libraries installed\n",
    "# It is defined by the kaggle/python Docker image: https://github.com/kaggle/docker-python\n",
    "# For example, here's several helpful packages to load\n",
    "\n",
    "import numpy as np # linear algebra\n",
    "import pandas as pd # data processing, CSV file I/O (e.g. pd.read_csv)\n",
    "\n",
    "# Input data files are available in the read-only \"../input/\" directory\n",
    "# For example, running this (by clicking run or pressing Shift+Enter) will list all files under the input directory\n",
    "\n",
    "import os\n",
    "for dirname, _, filenames in os.walk('/kaggle/input'):\n",
    "    for filename in filenames:\n",
    "        print(os.path.join(dirname, filename))\n",
    "\n",
    "# You can write up to 20GB to the current directory (/kaggle/working/) that gets preserved as output when you create a version using \"Save & Run All\" \n",
    "# You can also write temporary files to /kaggle/temp/, but they won't be saved outside of the current session"
   ]
  },
  {
   "cell_type": "code",
   "execution_count": 2,
   "id": "8e4a8fc8",
   "metadata": {
    "execution": {
     "iopub.execute_input": "2023-06-09T02:24:31.652700Z",
     "iopub.status.busy": "2023-06-09T02:24:31.652466Z",
     "iopub.status.idle": "2023-06-09T02:24:43.778258Z",
     "shell.execute_reply": "2023-06-09T02:24:43.777406Z"
    },
    "papermill": {
     "duration": 12.133036,
     "end_time": "2023-06-09T02:24:43.780410",
     "exception": false,
     "start_time": "2023-06-09T02:24:31.647374",
     "status": "completed"
    },
    "tags": []
   },
   "outputs": [
    {
     "name": "stdout",
     "output_type": "stream",
     "text": [
      "Collecting scikit-llm\r\n",
      "  Downloading scikit_llm-0.1.1-py3-none-any.whl (22 kB)\r\n",
      "Requirement already satisfied: scikit-learn>=1.1.0 in /opt/conda/lib/python3.10/site-packages (from scikit-llm) (1.2.2)\r\n",
      "Requirement already satisfied: pandas>=1.5.0 in /opt/conda/lib/python3.10/site-packages (from scikit-llm) (1.5.3)\r\n",
      "Collecting openai>=0.27.0 (from scikit-llm)\r\n",
      "  Downloading openai-0.27.8-py3-none-any.whl (73 kB)\r\n",
      "\u001b[2K     \u001b[90m━━━━━━━━━━━━━━━━━━━━━━━━━━━━━━━━━━━━━━━━\u001b[0m \u001b[32m73.6/73.6 kB\u001b[0m \u001b[31m6.0 MB/s\u001b[0m eta \u001b[36m0:00:00\u001b[0m\r\n",
      "\u001b[?25hRequirement already satisfied: tqdm>=4.60.0 in /opt/conda/lib/python3.10/site-packages (from scikit-llm) (4.64.1)\r\n",
      "Requirement already satisfied: requests>=2.20 in /opt/conda/lib/python3.10/site-packages (from openai>=0.27.0->scikit-llm) (2.28.2)\r\n",
      "Requirement already satisfied: aiohttp in /opt/conda/lib/python3.10/site-packages (from openai>=0.27.0->scikit-llm) (3.8.4)\r\n",
      "Requirement already satisfied: python-dateutil>=2.8.1 in /opt/conda/lib/python3.10/site-packages (from pandas>=1.5.0->scikit-llm) (2.8.2)\r\n",
      "Requirement already satisfied: pytz>=2020.1 in /opt/conda/lib/python3.10/site-packages (from pandas>=1.5.0->scikit-llm) (2023.3)\r\n",
      "Requirement already satisfied: numpy>=1.21.0 in /opt/conda/lib/python3.10/site-packages (from pandas>=1.5.0->scikit-llm) (1.23.5)\r\n",
      "Requirement already satisfied: scipy>=1.3.2 in /opt/conda/lib/python3.10/site-packages (from scikit-learn>=1.1.0->scikit-llm) (1.10.1)\r\n",
      "Requirement already satisfied: joblib>=1.1.1 in /opt/conda/lib/python3.10/site-packages (from scikit-learn>=1.1.0->scikit-llm) (1.2.0)\r\n",
      "Requirement already satisfied: threadpoolctl>=2.0.0 in /opt/conda/lib/python3.10/site-packages (from scikit-learn>=1.1.0->scikit-llm) (3.1.0)\r\n",
      "Requirement already satisfied: six>=1.5 in /opt/conda/lib/python3.10/site-packages (from python-dateutil>=2.8.1->pandas>=1.5.0->scikit-llm) (1.16.0)\r\n",
      "Requirement already satisfied: charset-normalizer<4,>=2 in /opt/conda/lib/python3.10/site-packages (from requests>=2.20->openai>=0.27.0->scikit-llm) (2.1.1)\r\n",
      "Requirement already satisfied: idna<4,>=2.5 in /opt/conda/lib/python3.10/site-packages (from requests>=2.20->openai>=0.27.0->scikit-llm) (3.4)\r\n",
      "Requirement already satisfied: urllib3<1.27,>=1.21.1 in /opt/conda/lib/python3.10/site-packages (from requests>=2.20->openai>=0.27.0->scikit-llm) (1.26.15)\r\n",
      "Requirement already satisfied: certifi>=2017.4.17 in /opt/conda/lib/python3.10/site-packages (from requests>=2.20->openai>=0.27.0->scikit-llm) (2023.5.7)\r\n",
      "Requirement already satisfied: attrs>=17.3.0 in /opt/conda/lib/python3.10/site-packages (from aiohttp->openai>=0.27.0->scikit-llm) (23.1.0)\r\n",
      "Requirement already satisfied: multidict<7.0,>=4.5 in /opt/conda/lib/python3.10/site-packages (from aiohttp->openai>=0.27.0->scikit-llm) (6.0.4)\r\n",
      "Requirement already satisfied: async-timeout<5.0,>=4.0.0a3 in /opt/conda/lib/python3.10/site-packages (from aiohttp->openai>=0.27.0->scikit-llm) (4.0.2)\r\n",
      "Requirement already satisfied: yarl<2.0,>=1.0 in /opt/conda/lib/python3.10/site-packages (from aiohttp->openai>=0.27.0->scikit-llm) (1.9.1)\r\n",
      "Requirement already satisfied: frozenlist>=1.1.1 in /opt/conda/lib/python3.10/site-packages (from aiohttp->openai>=0.27.0->scikit-llm) (1.3.3)\r\n",
      "Requirement already satisfied: aiosignal>=1.1.2 in /opt/conda/lib/python3.10/site-packages (from aiohttp->openai>=0.27.0->scikit-llm) (1.3.1)\r\n",
      "Installing collected packages: openai, scikit-llm\r\n",
      "Successfully installed openai-0.27.8 scikit-llm-0.1.1\r\n",
      "\u001b[33mWARNING: Running pip as the 'root' user can result in broken permissions and conflicting behaviour with the system package manager. It is recommended to use a virtual environment instead: https://pip.pypa.io/warnings/venv\u001b[0m\u001b[33m\r\n",
      "\u001b[0m"
     ]
    }
   ],
   "source": [
    "# Installations\n",
    "!pip install scikit-llm"
   ]
  },
  {
   "cell_type": "code",
   "execution_count": 3,
   "id": "6638c0ff",
   "metadata": {
    "execution": {
     "iopub.execute_input": "2023-06-09T02:24:43.792322Z",
     "iopub.status.busy": "2023-06-09T02:24:43.792033Z",
     "iopub.status.idle": "2023-06-09T02:24:45.210252Z",
     "shell.execute_reply": "2023-06-09T02:24:45.209241Z"
    },
    "papermill": {
     "duration": 1.426966,
     "end_time": "2023-06-09T02:24:45.212722",
     "exception": false,
     "start_time": "2023-06-09T02:24:43.785756",
     "status": "completed"
    },
    "tags": []
   },
   "outputs": [],
   "source": [
    "# Imports\n",
    "import os\n",
    "import pandas as pd\n",
    "import numpy as np\n",
    "from collections import Counter\n",
    "from datetime import date\n",
    "import ast\n",
    "import re\n",
    "\n",
    "# Scikit-LLM\n",
    "from skllm.config import SKLLMConfig\n",
    "from skllm.preprocessing import GPTVectorizer\n",
    "\n",
    "# Scikit Learn\n",
    "from sklearn.preprocessing import LabelEncoder, OrdinalEncoder\n",
    "from sklearn.model_selection import train_test_split\n",
    "\n",
    "# Visualizations\n",
    "from tabulate import tabulate\n",
    "import matplotlib.pyplot as plt\n",
    "import seaborn as sns\n",
    "import missingno as msno"
   ]
  },
  {
   "cell_type": "code",
   "execution_count": 4,
   "id": "a64078ec",
   "metadata": {
    "execution": {
     "iopub.execute_input": "2023-06-09T02:24:45.224804Z",
     "iopub.status.busy": "2023-06-09T02:24:45.224333Z",
     "iopub.status.idle": "2023-06-09T02:24:45.795875Z",
     "shell.execute_reply": "2023-06-09T02:24:45.795127Z"
    },
    "papermill": {
     "duration": 0.580041,
     "end_time": "2023-06-09T02:24:45.798098",
     "exception": false,
     "start_time": "2023-06-09T02:24:45.218057",
     "status": "completed"
    },
    "tags": []
   },
   "outputs": [],
   "source": [
    "### OPENAI API\n",
    "\n",
    "from kaggle_secrets import UserSecretsClient\n",
    "user_secrets = UserSecretsClient()\n",
    "secret_value_0 = user_secrets.get_secret(\"ORG_ID\")\n",
    "secret_value_1 = user_secrets.get_secret(\"SECRET_KEY\")\n",
    "\n",
    "SKLLMConfig.set_openai_key(secret_value_1)\n",
    "SKLLMConfig.set_openai_org(secret_value_0)"
   ]
  },
  {
   "cell_type": "markdown",
   "id": "6415c4f0",
   "metadata": {
    "papermill": {
     "duration": 0.004963,
     "end_time": "2023-06-09T02:24:45.808432",
     "exception": false,
     "start_time": "2023-06-09T02:24:45.803469",
     "status": "completed"
    },
    "tags": []
   },
   "source": [
    "# Data\n",
    "\n",
    "Given the size of the data set, only a small subset will be used for this activity.\n",
    "\n",
    "- Import data\n",
    "- Subset data"
   ]
  },
  {
   "cell_type": "code",
   "execution_count": 5,
   "id": "d9a11b0a",
   "metadata": {
    "execution": {
     "iopub.execute_input": "2023-06-09T02:24:45.819516Z",
     "iopub.status.busy": "2023-06-09T02:24:45.819214Z",
     "iopub.status.idle": "2023-06-09T02:24:52.780339Z",
     "shell.execute_reply": "2023-06-09T02:24:52.779405Z"
    },
    "papermill": {
     "duration": 6.969135,
     "end_time": "2023-06-09T02:24:52.782540",
     "exception": false,
     "start_time": "2023-06-09T02:24:45.813405",
     "status": "completed"
    },
    "tags": []
   },
   "outputs": [
    {
     "name": "stderr",
     "output_type": "stream",
     "text": [
      "/tmp/ipykernel_20/1823288251.py:2: DtypeWarning: Columns (1) have mixed types. Specify dtype option on import or set low_memory=False.\n",
      "  data = pd.read_csv(\"/kaggle/input/sephora-products-and-skincare-reviews/reviews_0_250.csv\")\n"
     ]
    },
    {
     "data": {
      "text/html": [
       "<div>\n",
       "<style scoped>\n",
       "    .dataframe tbody tr th:only-of-type {\n",
       "        vertical-align: middle;\n",
       "    }\n",
       "\n",
       "    .dataframe tbody tr th {\n",
       "        vertical-align: top;\n",
       "    }\n",
       "\n",
       "    .dataframe thead th {\n",
       "        text-align: right;\n",
       "    }\n",
       "</style>\n",
       "<table border=\"1\" class=\"dataframe\">\n",
       "  <thead>\n",
       "    <tr style=\"text-align: right;\">\n",
       "      <th></th>\n",
       "      <th>Unnamed: 0</th>\n",
       "      <th>author_id</th>\n",
       "      <th>rating</th>\n",
       "      <th>is_recommended</th>\n",
       "      <th>helpfulness</th>\n",
       "      <th>total_feedback_count</th>\n",
       "      <th>total_neg_feedback_count</th>\n",
       "      <th>total_pos_feedback_count</th>\n",
       "      <th>submission_time</th>\n",
       "      <th>review_text</th>\n",
       "      <th>review_title</th>\n",
       "      <th>skin_tone</th>\n",
       "      <th>eye_color</th>\n",
       "      <th>skin_type</th>\n",
       "      <th>hair_color</th>\n",
       "      <th>product_id</th>\n",
       "      <th>product_name</th>\n",
       "      <th>brand_name</th>\n",
       "      <th>price_usd</th>\n",
       "    </tr>\n",
       "  </thead>\n",
       "  <tbody>\n",
       "    <tr>\n",
       "      <th>0</th>\n",
       "      <td>0</td>\n",
       "      <td>1741593524</td>\n",
       "      <td>5</td>\n",
       "      <td>1.0</td>\n",
       "      <td>1.0</td>\n",
       "      <td>2</td>\n",
       "      <td>0</td>\n",
       "      <td>2</td>\n",
       "      <td>2023-02-01</td>\n",
       "      <td>I use this with the Nudestix “Citrus Clean Bal...</td>\n",
       "      <td>Taught me how to double cleanse!</td>\n",
       "      <td>NaN</td>\n",
       "      <td>brown</td>\n",
       "      <td>dry</td>\n",
       "      <td>black</td>\n",
       "      <td>P504322</td>\n",
       "      <td>Gentle Hydra-Gel Face Cleanser</td>\n",
       "      <td>NUDESTIX</td>\n",
       "      <td>19.0</td>\n",
       "    </tr>\n",
       "    <tr>\n",
       "      <th>1</th>\n",
       "      <td>1</td>\n",
       "      <td>31423088263</td>\n",
       "      <td>1</td>\n",
       "      <td>0.0</td>\n",
       "      <td>NaN</td>\n",
       "      <td>0</td>\n",
       "      <td>0</td>\n",
       "      <td>0</td>\n",
       "      <td>2023-03-21</td>\n",
       "      <td>I bought this lip mask after reading the revie...</td>\n",
       "      <td>Disappointed</td>\n",
       "      <td>NaN</td>\n",
       "      <td>NaN</td>\n",
       "      <td>NaN</td>\n",
       "      <td>NaN</td>\n",
       "      <td>P420652</td>\n",
       "      <td>Lip Sleeping Mask Intense Hydration with Vitam...</td>\n",
       "      <td>LANEIGE</td>\n",
       "      <td>24.0</td>\n",
       "    </tr>\n",
       "    <tr>\n",
       "      <th>2</th>\n",
       "      <td>2</td>\n",
       "      <td>5061282401</td>\n",
       "      <td>5</td>\n",
       "      <td>1.0</td>\n",
       "      <td>NaN</td>\n",
       "      <td>0</td>\n",
       "      <td>0</td>\n",
       "      <td>0</td>\n",
       "      <td>2023-03-21</td>\n",
       "      <td>My review title says it all! I get so excited ...</td>\n",
       "      <td>New Favorite Routine</td>\n",
       "      <td>light</td>\n",
       "      <td>brown</td>\n",
       "      <td>dry</td>\n",
       "      <td>blonde</td>\n",
       "      <td>P420652</td>\n",
       "      <td>Lip Sleeping Mask Intense Hydration with Vitam...</td>\n",
       "      <td>LANEIGE</td>\n",
       "      <td>24.0</td>\n",
       "    </tr>\n",
       "    <tr>\n",
       "      <th>3</th>\n",
       "      <td>3</td>\n",
       "      <td>6083038851</td>\n",
       "      <td>5</td>\n",
       "      <td>1.0</td>\n",
       "      <td>NaN</td>\n",
       "      <td>0</td>\n",
       "      <td>0</td>\n",
       "      <td>0</td>\n",
       "      <td>2023-03-20</td>\n",
       "      <td>I’ve always loved this formula for a long time...</td>\n",
       "      <td>Can't go wrong with any of them</td>\n",
       "      <td>NaN</td>\n",
       "      <td>brown</td>\n",
       "      <td>combination</td>\n",
       "      <td>black</td>\n",
       "      <td>P420652</td>\n",
       "      <td>Lip Sleeping Mask Intense Hydration with Vitam...</td>\n",
       "      <td>LANEIGE</td>\n",
       "      <td>24.0</td>\n",
       "    </tr>\n",
       "    <tr>\n",
       "      <th>4</th>\n",
       "      <td>4</td>\n",
       "      <td>47056667835</td>\n",
       "      <td>5</td>\n",
       "      <td>1.0</td>\n",
       "      <td>NaN</td>\n",
       "      <td>0</td>\n",
       "      <td>0</td>\n",
       "      <td>0</td>\n",
       "      <td>2023-03-20</td>\n",
       "      <td>If you have dry cracked lips, this is a must h...</td>\n",
       "      <td>A must have !!!</td>\n",
       "      <td>light</td>\n",
       "      <td>hazel</td>\n",
       "      <td>combination</td>\n",
       "      <td>NaN</td>\n",
       "      <td>P420652</td>\n",
       "      <td>Lip Sleeping Mask Intense Hydration with Vitam...</td>\n",
       "      <td>LANEIGE</td>\n",
       "      <td>24.0</td>\n",
       "    </tr>\n",
       "  </tbody>\n",
       "</table>\n",
       "</div>"
      ],
      "text/plain": [
       "   Unnamed: 0    author_id  rating  is_recommended  helpfulness  \\\n",
       "0           0   1741593524       5             1.0          1.0   \n",
       "1           1  31423088263       1             0.0          NaN   \n",
       "2           2   5061282401       5             1.0          NaN   \n",
       "3           3   6083038851       5             1.0          NaN   \n",
       "4           4  47056667835       5             1.0          NaN   \n",
       "\n",
       "   total_feedback_count  total_neg_feedback_count  total_pos_feedback_count  \\\n",
       "0                     2                         0                         2   \n",
       "1                     0                         0                         0   \n",
       "2                     0                         0                         0   \n",
       "3                     0                         0                         0   \n",
       "4                     0                         0                         0   \n",
       "\n",
       "  submission_time                                        review_text  \\\n",
       "0      2023-02-01  I use this with the Nudestix “Citrus Clean Bal...   \n",
       "1      2023-03-21  I bought this lip mask after reading the revie...   \n",
       "2      2023-03-21  My review title says it all! I get so excited ...   \n",
       "3      2023-03-20  I’ve always loved this formula for a long time...   \n",
       "4      2023-03-20  If you have dry cracked lips, this is a must h...   \n",
       "\n",
       "                       review_title skin_tone eye_color    skin_type  \\\n",
       "0  Taught me how to double cleanse!       NaN     brown          dry   \n",
       "1                      Disappointed       NaN       NaN          NaN   \n",
       "2              New Favorite Routine     light     brown          dry   \n",
       "3   Can't go wrong with any of them       NaN     brown  combination   \n",
       "4                   A must have !!!     light     hazel  combination   \n",
       "\n",
       "  hair_color product_id                                       product_name  \\\n",
       "0      black    P504322                     Gentle Hydra-Gel Face Cleanser   \n",
       "1        NaN    P420652  Lip Sleeping Mask Intense Hydration with Vitam...   \n",
       "2     blonde    P420652  Lip Sleeping Mask Intense Hydration with Vitam...   \n",
       "3      black    P420652  Lip Sleeping Mask Intense Hydration with Vitam...   \n",
       "4        NaN    P420652  Lip Sleeping Mask Intense Hydration with Vitam...   \n",
       "\n",
       "  brand_name  price_usd  \n",
       "0   NUDESTIX       19.0  \n",
       "1    LANEIGE       24.0  \n",
       "2    LANEIGE       24.0  \n",
       "3    LANEIGE       24.0  \n",
       "4    LANEIGE       24.0  "
      ]
     },
     "execution_count": 5,
     "metadata": {},
     "output_type": "execute_result"
    }
   ],
   "source": [
    "# Data\n",
    "data = pd.read_csv(\"/kaggle/input/sephora-products-and-skincare-reviews/reviews_0_250.csv\")\n",
    "\n",
    "# Check\n",
    "data.head(5)"
   ]
  },
  {
   "cell_type": "code",
   "execution_count": 6,
   "id": "4f14fa1d",
   "metadata": {
    "execution": {
     "iopub.execute_input": "2023-06-09T02:24:52.796516Z",
     "iopub.status.busy": "2023-06-09T02:24:52.796222Z",
     "iopub.status.idle": "2023-06-09T02:24:52.803915Z",
     "shell.execute_reply": "2023-06-09T02:24:52.802982Z"
    },
    "papermill": {
     "duration": 0.016202,
     "end_time": "2023-06-09T02:24:52.805869",
     "exception": false,
     "start_time": "2023-06-09T02:24:52.789667",
     "status": "completed"
    },
    "tags": []
   },
   "outputs": [
    {
     "data": {
      "text/plain": [
       "(602130, 19)"
      ]
     },
     "execution_count": 6,
     "metadata": {},
     "output_type": "execute_result"
    }
   ],
   "source": [
    "# Shape\n",
    "data.shape"
   ]
  },
  {
   "cell_type": "code",
   "execution_count": 7,
   "id": "8b3d7a6a",
   "metadata": {
    "execution": {
     "iopub.execute_input": "2023-06-09T02:24:52.819106Z",
     "iopub.status.busy": "2023-06-09T02:24:52.817689Z",
     "iopub.status.idle": "2023-06-09T02:24:54.554617Z",
     "shell.execute_reply": "2023-06-09T02:24:54.553168Z"
    },
    "papermill": {
     "duration": 1.745467,
     "end_time": "2023-06-09T02:24:54.556846",
     "exception": false,
     "start_time": "2023-06-09T02:24:52.811379",
     "status": "completed"
    },
    "tags": []
   },
   "outputs": [
    {
     "name": "stdout",
     "output_type": "stream",
     "text": [
      "<class 'pandas.core.frame.DataFrame'>\n",
      "RangeIndex: 602130 entries, 0 to 602129\n",
      "Data columns (total 19 columns):\n",
      " #   Column                    Non-Null Count   Dtype  \n",
      "---  ------                    --------------   -----  \n",
      " 0   Unnamed: 0                602130 non-null  int64  \n",
      " 1   author_id                 602130 non-null  object \n",
      " 2   rating                    602130 non-null  int64  \n",
      " 3   is_recommended            484644 non-null  float64\n",
      " 4   helpfulness               270298 non-null  float64\n",
      " 5   total_feedback_count      602130 non-null  int64  \n",
      " 6   total_neg_feedback_count  602130 non-null  int64  \n",
      " 7   total_pos_feedback_count  602130 non-null  int64  \n",
      " 8   submission_time           602130 non-null  object \n",
      " 9   review_text               601131 non-null  object \n",
      " 10  review_title              435119 non-null  object \n",
      " 11  skin_tone                 496074 non-null  object \n",
      " 12  eye_color                 463642 non-null  object \n",
      " 13  skin_type                 527447 non-null  object \n",
      " 14  hair_color                461049 non-null  object \n",
      " 15  product_id                602130 non-null  object \n",
      " 16  product_name              602130 non-null  object \n",
      " 17  brand_name                602130 non-null  object \n",
      " 18  price_usd                 602130 non-null  float64\n",
      "dtypes: float64(3), int64(5), object(11)\n",
      "memory usage: 87.3+ MB\n"
     ]
    }
   ],
   "source": [
    "# Info\n",
    "data.info()"
   ]
  },
  {
   "cell_type": "code",
   "execution_count": 8,
   "id": "1ed18978",
   "metadata": {
    "execution": {
     "iopub.execute_input": "2023-06-09T02:24:54.570048Z",
     "iopub.status.busy": "2023-06-09T02:24:54.569722Z",
     "iopub.status.idle": "2023-06-09T02:24:54.574220Z",
     "shell.execute_reply": "2023-06-09T02:24:54.573316Z"
    },
    "papermill": {
     "duration": 0.013,
     "end_time": "2023-06-09T02:24:54.576001",
     "exception": false,
     "start_time": "2023-06-09T02:24:54.563001",
     "status": "completed"
    },
    "tags": []
   },
   "outputs": [],
   "source": [
    "# Columns to focus analysis on \n",
    "keep_cols = ['rating', 'is_recommended', 'helpfulness', 'total_feedback_count', 'total_neg_feedback_count', 'total_pos_feedback_count', 'submission_time', 'review_text', 'review_title', 'skin_tone', 'eye_color', 'skin_type', 'hair_color', 'product_name', 'brand_name', 'price_usd']"
   ]
  },
  {
   "cell_type": "code",
   "execution_count": 9,
   "id": "7fc892ca",
   "metadata": {
    "execution": {
     "iopub.execute_input": "2023-06-09T02:24:54.588466Z",
     "iopub.status.busy": "2023-06-09T02:24:54.588213Z",
     "iopub.status.idle": "2023-06-09T02:24:54.793829Z",
     "shell.execute_reply": "2023-06-09T02:24:54.792867Z"
    },
    "papermill": {
     "duration": 0.214614,
     "end_time": "2023-06-09T02:24:54.796349",
     "exception": false,
     "start_time": "2023-06-09T02:24:54.581735",
     "status": "completed"
    },
    "tags": []
   },
   "outputs": [
    {
     "name": "stdout",
     "output_type": "stream",
     "text": [
      "<class 'pandas.core.frame.DataFrame'>\n",
      "Int64Index: 25000 entries, 13697 to 408809\n",
      "Data columns (total 16 columns):\n",
      " #   Column                    Non-Null Count  Dtype  \n",
      "---  ------                    --------------  -----  \n",
      " 0   rating                    25000 non-null  int64  \n",
      " 1   is_recommended            20184 non-null  float64\n",
      " 2   helpfulness               11230 non-null  float64\n",
      " 3   total_feedback_count      25000 non-null  int64  \n",
      " 4   total_neg_feedback_count  25000 non-null  int64  \n",
      " 5   total_pos_feedback_count  25000 non-null  int64  \n",
      " 6   submission_time           25000 non-null  object \n",
      " 7   review_text               24957 non-null  object \n",
      " 8   review_title              18048 non-null  object \n",
      " 9   skin_tone                 20626 non-null  object \n",
      " 10  eye_color                 19324 non-null  object \n",
      " 11  skin_type                 21934 non-null  object \n",
      " 12  hair_color                19249 non-null  object \n",
      " 13  product_name              25000 non-null  object \n",
      " 14  brand_name                25000 non-null  object \n",
      " 15  price_usd                 25000 non-null  float64\n",
      "dtypes: float64(3), int64(4), object(9)\n",
      "memory usage: 3.2+ MB\n"
     ]
    }
   ],
   "source": [
    "# Build a more focused data set\n",
    "df = data[keep_cols].sample(n=25000)\n",
    "\n",
    "# Check\n",
    "df.info()"
   ]
  },
  {
   "cell_type": "code",
   "execution_count": 10,
   "id": "cfc9784b",
   "metadata": {
    "execution": {
     "iopub.execute_input": "2023-06-09T02:24:54.810050Z",
     "iopub.status.busy": "2023-06-09T02:24:54.809755Z",
     "iopub.status.idle": "2023-06-09T02:24:54.823606Z",
     "shell.execute_reply": "2023-06-09T02:24:54.822921Z"
    },
    "papermill": {
     "duration": 0.022621,
     "end_time": "2023-06-09T02:24:54.825354",
     "exception": false,
     "start_time": "2023-06-09T02:24:54.802733",
     "status": "completed"
    },
    "tags": []
   },
   "outputs": [],
   "source": [
    "# Drop all rows where review_text is NaN\n",
    "df = df[df.review_text.notna()]"
   ]
  },
  {
   "cell_type": "code",
   "execution_count": 11,
   "id": "395cb11a",
   "metadata": {
    "execution": {
     "iopub.execute_input": "2023-06-09T02:24:54.838007Z",
     "iopub.status.busy": "2023-06-09T02:24:54.837705Z",
     "iopub.status.idle": "2023-06-09T02:24:54.841736Z",
     "shell.execute_reply": "2023-06-09T02:24:54.840910Z"
    },
    "papermill": {
     "duration": 0.012393,
     "end_time": "2023-06-09T02:24:54.843589",
     "exception": false,
     "start_time": "2023-06-09T02:24:54.831196",
     "status": "completed"
    },
    "tags": []
   },
   "outputs": [],
   "source": [
    "# Process review_text via GPTVectorizer()\n",
    "gpt_model = GPTVectorizer(openai_embedding_model='text-embeddings-ada-002')\n",
    "\n",
    "# Vectors\n",
    "#gpt_vectors = gpt_model.fit_transform(df.review_text)"
   ]
  },
  {
   "cell_type": "code",
   "execution_count": 12,
   "id": "036593b7",
   "metadata": {
    "execution": {
     "iopub.execute_input": "2023-06-09T02:24:54.856237Z",
     "iopub.status.busy": "2023-06-09T02:24:54.855968Z",
     "iopub.status.idle": "2023-06-09T02:24:54.859355Z",
     "shell.execute_reply": "2023-06-09T02:24:54.858593Z"
    },
    "papermill": {
     "duration": 0.011801,
     "end_time": "2023-06-09T02:24:54.861238",
     "exception": false,
     "start_time": "2023-06-09T02:24:54.849437",
     "status": "completed"
    },
    "tags": []
   },
   "outputs": [],
   "source": [
    "# Save to df\n",
    "#df['gpt_vectors'] = [np.ravel(i) for i in gpt_vectors]"
   ]
  },
  {
   "cell_type": "code",
   "execution_count": 13,
   "id": "c1aa0e96",
   "metadata": {
    "execution": {
     "iopub.execute_input": "2023-06-09T02:24:54.873614Z",
     "iopub.status.busy": "2023-06-09T02:24:54.873373Z",
     "iopub.status.idle": "2023-06-09T02:24:54.876610Z",
     "shell.execute_reply": "2023-06-09T02:24:54.875820Z"
    },
    "papermill": {
     "duration": 0.011561,
     "end_time": "2023-06-09T02:24:54.878450",
     "exception": false,
     "start_time": "2023-06-09T02:24:54.866889",
     "status": "completed"
    },
    "tags": []
   },
   "outputs": [],
   "source": [
    "# Export via pickle\n",
    "#df.to_pickle('df_vectorized.pkl')"
   ]
  }
 ],
 "metadata": {
  "kernelspec": {
   "display_name": "Python 3",
   "language": "python",
   "name": "python3"
  },
  "language_info": {
   "codemirror_mode": {
    "name": "ipython",
    "version": 3
   },
   "file_extension": ".py",
   "mimetype": "text/x-python",
   "name": "python",
   "nbconvert_exporter": "python",
   "pygments_lexer": "ipython3",
   "version": "3.10.10"
  },
  "papermill": {
   "default_parameters": {},
   "duration": 33.436402,
   "end_time": "2023-06-09T02:24:55.703725",
   "environment_variables": {},
   "exception": null,
   "input_path": "__notebook__.ipynb",
   "output_path": "__notebook__.ipynb",
   "parameters": {},
   "start_time": "2023-06-09T02:24:22.267323",
   "version": "2.4.0"
  }
 },
 "nbformat": 4,
 "nbformat_minor": 5
}
